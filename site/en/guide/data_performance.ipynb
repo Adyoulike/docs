{
 "cells": [
  {
   "cell_type": "markdown",
   "metadata": {},
   "source": [
    "# Better performance with `tf.data`"
   ]
  },
  {
   "cell_type": "markdown",
   "metadata": {},
   "source": [
    "## Overview\n",
    "\n",
    "GPUs and TPUs can radically reduce the time required to execute a single training step.\n",
    "Achieving peak performance requires an efficient input pipeline that delivers data for the next step before the current step has finished.\n",
    "The `tf.data` API helps to build flexible and efficient input pipelines.\n",
    "This document explains the `tf.data` API's features and best practices for building highly performant TensorFlow input pipelines across a variety of models and accelerators.\n",
    "\n",
    "This guide does the following:\n",
    "\n",
    "*   Illustrates that TensorFlow input pipelines are essentially an [ETL](https://en.wikipedia.org/wiki/Extract,_transform,_load) process.\n",
    "*   Describes recommended practices for designing performant TensorFlow input pipelines.\n",
    "*   Discusses the performance implications of the order in which you apply transformations."
   ]
  },
  {
   "cell_type": "code",
   "execution_count": 1,
   "metadata": {},
   "outputs": [],
   "source": [
    "from __future__ import absolute_import, division, print_function, unicode_literals\n",
    "\n",
    "import time\n",
    "import timeit\n",
    "\n",
    "import tensorflow as tf\n",
    "import matplotlib as mpl\n",
    "import matplotlib.pyplot as plt"
   ]
  },
  {
   "cell_type": "code",
   "execution_count": 2,
   "metadata": {},
   "outputs": [],
   "source": [
    "import os\n",
    "import tempfile\n",
    "def generate_record_files(num_files=100, num_entries=200, tmp_dir=None):\n",
    "    temporary_directory = tempfile.TemporaryDirectory(dir=tmp_dir)\n",
    "    for i in range(num_files):\n",
    "        filename = os.path.join(temporary_directory.name, 'tf_record.%d' % i)\n",
    "        with tf.io.TFRecordWriter(filename) as writer:\n",
    "            for j in range(num_entries):\n",
    "                example = tf.train.Example(features=tf.train.Features(feature={\n",
    "                    \"image\": tf.train.Feature(bytes_list=tf.train.BytesList(value=[\n",
    "                        tf.image.encode_png(\n",
    "                            tf.dtypes.cast(\n",
    "                                tf.random.normal((16, 16, 3)) + 128,\n",
    "                                tf.dtypes.uint8\n",
    "                            )\n",
    "                        ).numpy()\n",
    "                    ])),\n",
    "                    \"label\": tf.train.Feature(int64_list=tf.train.Int64List(value=[\n",
    "                        tf.random.uniform((), minval=0, maxval=10, dtype=tf.dtypes.int32).numpy()\n",
    "                    ]))\n",
    "                }))\n",
    "                writer.write(example.SerializeToString())\n",
    "    return temporary_directory\n",
    "\n",
    "\n",
    "temp_dir = generate_record_files()"
   ]
  },
  {
   "cell_type": "markdown",
   "metadata": {},
   "source": [
    "## Structure of an input pipeline\n",
    "\n",
    "A typical TensorFlow training input pipeline can be framed as an ETL process:\n",
    "\n",
    "1.  **Extract**: Read data from memory (NumPy) or persistent storage -- either\n",
    "    local (HDD or SSD) or remote (e.g. [GCS](https://cloud.google.com/storage/)\n",
    "    or\n",
    "    [HDFS](https://en.wikipedia.org/wiki/Apache_Hadoop#Hadoop_distributed_file_system)).\n",
    "2.  **Transform**: Use CPU to parse and perform preprocessing operations on the\n",
    "    data such as shuffling, batching, and domain specific transformations such\n",
    "    as image decompression and augmentation, text vectorization, or video\n",
    "    temporal sampling.\n",
    "3.  **Load**: Load the transformed data onto the accelerator device(s) (e.g.\n",
    "    GPU(s) or TPU(s)) that execute the machine learning model.\n",
    "\n",
    "This pattern effectively utilizes the CPU, while reserving the accelerator for\n",
    "the heavy lifting of training your model. In addition, viewing input pipelines\n",
    "as an ETL process provides a framework that facilitates the application of\n",
    "performance optimizations.\n",
    "\n",
    "The example below represents a naive implementation of an input pipeline that\n",
    "reads TFRecord files containing labeled images and converts them to batches of\n",
    "image-label pairs suitable for training. The input pipeline is represented as a\n",
    "`tf.data.Dataset` which can be passed to high-level TensorFlow API such as\n",
    "`tf.keras`."
   ]
  },
  {
   "cell_type": "code",
   "execution_count": 3,
   "metadata": {},
   "outputs": [],
   "source": [
    "def _augment_helper(image):\n",
    "    return image"
   ]
  },
  {
   "cell_type": "code",
   "execution_count": 4,
   "metadata": {},
   "outputs": [],
   "source": [
    "def parse_example_and_augment_fn(example):\n",
    "    \"\"\" Parse a single TFExample record and perform simple data augmentation.\"\"\"\n",
    "    # Define which features are contained in a TFExample record\n",
    "    example_features = {\n",
    "        \"image\": tf.io.FixedLenFeature((), tf.string, \"\"),  # A scalar (byte) string\n",
    "        \"label\": tf.io.FixedLenFeature((), tf.int64, -1)  # A scalar integer\n",
    "    }\n",
    "    parsed = tf.io.parse_single_example(example, example_features)\n",
    "    # parsed is a Dict[str, tf.Tensor] with tensors matching specification given in example_features\n",
    "    # tf.print(parsed)\n",
    "    # Decode the image byte string to a Tensor of uint8\n",
    "    image = tf.io.decode_image(parsed['image'])\n",
    "    # Do some data augmentation on the image using slice, reshape, resize, etc.\n",
    "    image = _augment_helper(image)\n",
    "    # Return a tuple (features, label)\n",
    "    return image, parsed[\"label\"]"
   ]
  },
  {
   "cell_type": "code",
   "execution_count": 5,
   "metadata": {},
   "outputs": [],
   "source": [
    "def make_dataset():\n",
    "    # Get the list of TFRecords to read\n",
    "    dataset = tf.data.Dataset.list_files(os.path.join(temp_dir.name, 'tf_record.*'))  # => Dataset of scalar strings\n",
    "    # Load each file as a TFRecordDataset\n",
    "    dataset = tf.data.TFRecordDataset(dataset)  # => Dataset of scalar (byte) string serialized TFExample\n",
    "    # Parse the serialized records\n",
    "    dataset = dataset.map(parse_example_and_augment_fn)  # => Dataset of tuples (image tensor, label tensor)\n",
    "    return dataset"
   ]
  },
  {
   "cell_type": "code",
   "execution_count": 6,
   "metadata": {},
   "outputs": [],
   "source": [
    "@tf.function\n",
    "def iterate(ds):\n",
    "    for sample in ds.repeat(10):\n",
    "        time.sleep(0.001)  # Simulate some computation"
   ]
  },
  {
   "cell_type": "markdown",
   "metadata": {},
   "source": [
    "The next section builds on this input pipeline, illustrating best practices for designing performant TensorFlow input pipelines."
   ]
  },
  {
   "cell_type": "markdown",
   "metadata": {},
   "source": [
    "## Optimize performance\n",
    "\n",
    "As new computing devices (such as GPUs and TPUs) make it possible to train\n",
    "neural networks at an increasingly fast rate, the CPU processing is prone to\n",
    "becoming the bottleneck. The `tf.data` API provides users with building blocks\n",
    "to design input pipelines that effectively utilize the CPU, optimizing each step\n",
    "of the ETL process."
   ]
  },
  {
   "cell_type": "code",
   "execution_count": 7,
   "metadata": {},
   "outputs": [
    {
     "name": "stdout",
     "output_type": "stream",
     "text": [
      "Base iteration elapsed time: 14.338346977001493\n"
     ]
    }
   ],
   "source": [
    "tf.print(\"Base iteration elapsed time:\", timeit.timeit(lambda: iterate(make_dataset()), number=1))"
   ]
  },
  {
   "cell_type": "markdown",
   "metadata": {},
   "source": [
    "### Pipelining\n",
    "\n",
    "To perform a training step, you must first extract and transform the training\n",
    "data and then feed it to a model running on an accelerator. However, in a naive\n",
    "synchronous implementation, while the CPU is preparing the data, the accelerator\n",
    "is sitting idle. Conversely, while the accelerator is training the model, the\n",
    "CPU is sitting idle. The training step time is thus the sum of both CPU\n",
    "pre-processing time and the accelerator training time.\n",
    "\n",
    "**Pipelining** overlaps the preprocessing and model execution of a training\n",
    "step. While the accelerator is performing training step `N`, the CPU is\n",
    "preparing the data for step `N+1`. Doing so reduces the step time to the maximum\n",
    "(as opposed to the sum) of the training and the time it takes to extract and\n",
    "transform the data.\n",
    "\n",
    "Without pipelining, the CPU and the GPU/TPU sit idle much of the time:\n",
    "\n",
    "![without pipelining](https://www.tensorflow.org/images/datasets_without_pipelining.png)\n",
    "\n",
    "With pipelining, idle time diminishes significantly:\n",
    "\n",
    "![with pipelining](https://www.tensorflow.org/images/datasets_with_pipelining.png)\n",
    "\n",
    "The `tf.data` API provides a software pipelining mechanism through the\n",
    "`tf.data.Dataset.prefetch` transformation, which can be used to decouple the\n",
    "time when data is produced from the time when data is consumed. In particular,\n",
    "the transformation uses a background thread and an internal buffer to prefetch\n",
    "elements from the input dataset ahead of the time they are requested. The number\n",
    "of elements to prefetch should be equal to (or possibly greater than) the number\n",
    "of batches consumed by a single training step. You could either manually tune\n",
    "this value, or set it to `tf.data.experimental.AUTOTUNE` which will prompt the\n",
    "`tf.data` runtime to tune the value dynamically at runtime."
   ]
  },
  {
   "cell_type": "markdown",
   "metadata": {},
   "source": [
    "To apply this change to our running example, add the `prefetch` call as the last transformation of our input pipeline.\n",
    "\n",
    "Note that the prefetch transformation provides benefits any time there is an\n",
    "opportunity to overlap the work of a \"producer\" with the work of a \"consumer.\""
   ]
  },
  {
   "cell_type": "code",
   "execution_count": 8,
   "metadata": {},
   "outputs": [],
   "source": [
    "def make_dataset():\n",
    "    # Get the list of TFRecords to read\n",
    "    dataset = tf.data.Dataset.list_files(os.path.join(temp_dir.name, 'tf_record.*'))  # => Dataset of scalar strings\n",
    "    # Load each file as a TFRecordDataset\n",
    "    dataset = tf.data.TFRecordDataset(dataset)  # => Dataset of scalar (byte) string serialized TFExample\n",
    "    # Parse the serialized records\n",
    "    dataset = dataset.map(parse_example_and_augment_fn)  # => Dataset of tuples (image tensor, label tensor)\n",
    "    # Prefetch elements\n",
    "    dataset = dataset.prefetch(tf.data.experimental.AUTOTUNE)\n",
    "    return dataset"
   ]
  },
  {
   "cell_type": "code",
   "execution_count": 9,
   "metadata": {},
   "outputs": [
    {
     "name": "stdout",
     "output_type": "stream",
     "text": [
      "Prefetching:  15.697527485001046\n"
     ]
    }
   ],
   "source": [
    "tf.print(\"Prefetching: \", timeit.timeit(lambda: iterate(make_dataset()), number=1))"
   ]
  },
  {
   "cell_type": "markdown",
   "metadata": {},
   "source": [
    "### Parallelize data transformation\n",
    "\n",
    "When preparing data, input elements may need to be pre-processed. To this\n",
    "end, the `tf.data` API offers the `tf.data.Dataset.map` transformation, which\n",
    "applies a user-defined function to each element of the input dataset. Because input elements are\n",
    "independent of one another, the pre-processing can be parallelized across\n",
    "multiple CPU cores. To make this possible, the `map` transformation provides the\n",
    "`num_parallel_calls` argument to specify the level of parallelism. For example,\n",
    "the following diagram illustrates the effect of setting `num_parallel_calls=2`\n",
    "to the `map` transformation:\n",
    "\n",
    "![parallel map](https://www.tensorflow.org/images/datasets_parallel_map.png)\n",
    "\n",
    "Choosing the best value for the `num_parallel_calls` argument depends on your\n",
    "hardware, characteristics of your training data (such as its size and shape),\n",
    "the cost of your map function, and what other processing is happening on the CPU\n",
    "at the same time; a simple heuristic is to use the number of available CPU\n",
    "cores. For instance, if the machine executing the example above had 4 cores, it\n",
    "would have been more efficient to set `num_parallel_calls=4`. On the other hand,\n",
    "setting `num_parallel_calls` to a value much greater than the number of\n",
    "available CPUs can lead to inefficient scheduling, resulting in a slowdown.\n",
    "Similar to the `prefetch` transformation, the `map` transformation supports\n",
    "`tf.data.experimental.AUTOTUNE` which will delegate the decision about what\n",
    "level of parallelism to use to the tf.data runtime.\n",
    "\n",
    "To apply this change to our running example, add the `num_parallel_calls` argument to the map call in our input pipeline."
   ]
  },
  {
   "cell_type": "code",
   "execution_count": 10,
   "metadata": {},
   "outputs": [],
   "source": [
    "def make_dataset():\n",
    "    # Get the list of TFRecords to read\n",
    "    dataset = tf.data.Dataset.list_files(os.path.join(temp_dir.name, 'tf_record.*'))  # => Dataset of scalar strings\n",
    "    # Load each file as a TFRecordDataset\n",
    "    dataset = tf.data.TFRecordDataset(dataset)  # => Dataset of scalar (byte) string serialized TFExample\n",
    "    # Parse the serialized records\n",
    "    dataset = dataset.map(\n",
    "        parse_example_and_augment_fn,\n",
    "        num_parallel_calls=tf.data.experimental.AUTOTUNE\n",
    "    )  # => Dataset of tuples (image tensor, label tensor)\n",
    "    # Prefetch elements\n",
    "    dataset = dataset.prefetch(tf.data.experimental.AUTOTUNE)\n",
    "    return dataset"
   ]
  },
  {
   "cell_type": "code",
   "execution_count": 11,
   "metadata": {},
   "outputs": [
    {
     "name": "stdout",
     "output_type": "stream",
     "text": [
      "Parallelizing data transformation:  7.5959431849987595\n"
     ]
    }
   ],
   "source": [
    "tf.print(\"Parallelizing data transformation: \", timeit.timeit(lambda: iterate(make_dataset()), number=1))"
   ]
  },
  {
   "cell_type": "markdown",
   "metadata": {},
   "source": [
    "### Parallelize data extraction\n",
    "\n",
    "In a real-world setting, the input data may be stored remotely (for example, GCS\n",
    "or HDFS), either because the input data would not fit locally or because the\n",
    "training is distributed and it would not make sense to replicate the input data\n",
    "on every machine. A dataset pipeline that works well when reading data locally\n",
    "might become bottlenecked on I/O when reading data remotely because of the\n",
    "following differences between local and remote storage:\n",
    "\n",
    "*   **Time-to-first-byte:** Reading the first byte of a file from remote storage\n",
    "    can take orders of magnitude longer than from local storage.\n",
    "*   **Read throughput:** While remote storage typically offers large aggregate\n",
    "    bandwidth, reading a single file might only be able to utilize a small\n",
    "    fraction of this bandwidth.\n",
    "\n",
    "In addition, once the raw bytes are read into memory, it may also be necessary\n",
    "to deserialize and/or decrypt the data (e.g.\n",
    "[protobuf](https://developers.google.com/protocol-buffers/)), which requires\n",
    "additional computation. This overhead is present irrespective of whether the\n",
    "data is stored locally or remotely, but can be worse in the remote case if data\n",
    "is not prefetched effectively.\n",
    "\n",
    "To mitigate the impact of the various data extraction overheads, the\n",
    "`tf.data.Dataset.interleave` transformation can be used to parallelize the data\n",
    "extraction step, interleaving the contents of other datasets (such as data file\n",
    "readers). The number of datasets to overlap can be specified by the\n",
    "`cycle_length` argument, while the level of parallelism can be specified by the\n",
    "`num_parallel_calls` argument. Similar to the `prefetch` and `map`\n",
    "transformations, the `interleave` transformation supports\n",
    "`tf.data.experimental.AUTOTUNE` which will delegate the decision about what\n",
    "level of parallelism to use to the tf.data runtime.\n",
    "\n",
    "The following diagram illustrates the effect of supplying `cycle_length=2` and\n",
    "`num_parallel_calls=2` to the `interleave` transformation:\n",
    "\n",
    "![parallel io](https://www.tensorflow.org/images/datasets_parallel_io.png)\n",
    "\n",
    "To apply this change to our running example, replace the call to `TFRecordDataset` by a call to `interleave`."
   ]
  },
  {
   "cell_type": "code",
   "execution_count": 12,
   "metadata": {},
   "outputs": [],
   "source": [
    "def make_dataset():\n",
    "    # Get the list of TFRecords to read\n",
    "    dataset = tf.data.Dataset.list_files(os.path.join(temp_dir.name, 'tf_record.*'))  # => Dataset of scalar strings\n",
    "    # Load multiple files in parallel\n",
    "    dataset = dataset.interleave(\n",
    "        tf.data.TFRecordDataset,  # Load each file as a TFRecordDataset\n",
    "        num_parallel_calls=tf.data.experimental.AUTOTUNE\n",
    "    )  # => Dataset of scalar (byte) string serialized TFExample\n",
    "    # Parse the serialized records\n",
    "    dataset = dataset.map(\n",
    "        parse_example_and_augment_fn,\n",
    "        num_parallel_calls=tf.data.experimental.AUTOTUNE\n",
    "    )  # => Dataset of tuples (image tensor, label tensor)\n",
    "    # Prefetch elements\n",
    "    dataset = dataset.prefetch(tf.data.experimental.AUTOTUNE)\n",
    "    return dataset"
   ]
  },
  {
   "cell_type": "code",
   "execution_count": 13,
   "metadata": {},
   "outputs": [
    {
     "name": "stdout",
     "output_type": "stream",
     "text": [
      "Parallelizing data extraction:  8.418296111998643\n"
     ]
    }
   ],
   "source": [
    "tf.print(\"Parallelizing data extraction: \", timeit.timeit(lambda: iterate(make_dataset()), number=1))"
   ]
  },
  {
   "cell_type": "markdown",
   "metadata": {},
   "source": [
    "## Performance considerations\n",
    "\n",
    "The `tf.data` API is designed around composable transformations to provide its\n",
    "users with flexibility. Although many of these transformations are commutative,\n",
    "the ordering of certain transformations has performance implications."
   ]
  },
  {
   "cell_type": "markdown",
   "metadata": {},
   "source": [
    "### Map and batch\n",
    "\n",
    "Invoking the user-defined function passed into the `map` transformation has\n",
    "overhead related to scheduling and executing the user-defined function.\n",
    "We recommend vectorizing the user-defined function (that is, have it operate\n",
    "over a batch of inputs at once) and apply the `batch` transformation _before_\n",
    "the `map` transformation.\n",
    "\n",
    "To apply this change to our running example, define a new parsing function,\n",
    "acting on a batch of serialized examples, and call it after batching our dataset."
   ]
  },
  {
   "cell_type": "code",
   "execution_count": 14,
   "metadata": {},
   "outputs": [],
   "source": [
    "def parse_batch_and_augment_fn(examples):\n",
    "    \"\"\" Parse a batch of TFExample records and perform simple data augmentation.\"\"\"\n",
    "    example_features = {\n",
    "        \"image\": tf.io.FixedLenFeature((), tf.string, \"\"),\n",
    "        \"label\": tf.io.FixedLenFeature((), tf.int64, -1)\n",
    "    }\n",
    "    \n",
    "    # Call the vectorized version of examples parsing\n",
    "    parsed = tf.io.parse_example(examples, example_features)\n",
    "    images = tf.map_fn(tf.io.decode_image, parsed['image'], dtype=tf.dtypes.uint8)  # tf.io.decode_image is not vectorized and cannot decode a batch of images\n",
    "\n",
    "    images = _augment_helper(images)\n",
    "    return images, parsed[\"label\"]"
   ]
  },
  {
   "cell_type": "code",
   "execution_count": 15,
   "metadata": {},
   "outputs": [],
   "source": [
    "def make_dataset():\n",
    "    dataset = tf.data.Dataset.list_files(os.path.join(temp_dir.name, 'tf_record.*'))\n",
    "    dataset = dataset.interleave(\n",
    "        tf.data.TFRecordDataset,\n",
    "        num_parallel_calls=tf.data.experimental.AUTOTUNE\n",
    "    )\n",
    "    \n",
    "    # Batch the dataset before calling map\n",
    "    dataset = dataset.batch(64)  # => Dataset of batches of tuples\n",
    "    \n",
    "    dataset = dataset.map(\n",
    "        parse_batch_and_augment_fn,  # Call the vectorized parsing function\n",
    "        num_parallel_calls=tf.data.experimental.AUTOTUNE\n",
    "    )\n",
    "    dataset = dataset.prefetch(tf.data.experimental.AUTOTUNE)\n",
    "    return dataset"
   ]
  },
  {
   "cell_type": "code",
   "execution_count": 16,
   "metadata": {},
   "outputs": [
    {
     "name": "stdout",
     "output_type": "stream",
     "text": [
      "Batch before map:  7.158265191999817\n"
     ]
    }
   ],
   "source": [
    "tf.print(\"Batch before map: \", timeit.timeit(lambda: iterate(make_dataset()), number=1))"
   ]
  },
  {
   "cell_type": "markdown",
   "metadata": {},
   "source": [
    "### Map and memory bound operations\n",
    "\n",
    "A number of transformations, including `interleave`, `prefetch`, and `shuffle`,\n",
    "maintain an internal buffer of elements. If the user-defined function passed\n",
    "into the `map` transformation changes the size of the elements, then the\n",
    "ordering of the map transformation and the transformations that buffer elements\n",
    "affects the memory usage. In general, we recommend choosing the order that\n",
    "results in lower memory footprint, unless different ordering is desirable for\n",
    "performance.\n",
    "\n",
    "The `tf.data.Dataset.cache` transformation can cache a dataset, either in memory\n",
    "or on local storage. If the user-defined function passed into the `map`\n",
    "transformation is expensive, apply the cache transformation after the `map`\n",
    "transformation as long as the resulting dataset can still fit into memory or\n",
    "local storage. If the user-defined function increases the space required to\n",
    "store the dataset beyond the cache capacity, consider pre-processing your data\n",
    "before your training job to reduce resource usage.\n",
    "\n",
    "In our running example, the mapped function decode a PNG string to a tensor of pixels.\n",
    "This can increase the size of the data significantly."
   ]
  },
  {
   "cell_type": "code",
   "execution_count": 17,
   "metadata": {},
   "outputs": [
    {
     "name": "stdout",
     "output_type": "stream",
     "text": [
      "Serialized example: 393\n",
      "Parsed example: 359\n",
      "Decoded example: 772\n"
     ]
    }
   ],
   "source": [
    "serialized_example = next(iter(\n",
    "    tf.data.TFRecordDataset(tf.data.Dataset.list_files(os.path.join(temp_dir.name, 'tf_record.*')))\n",
    "))\n",
    "import sys\n",
    "tf.print(\"Serialized example:\", len(serialized_example.numpy()))\n",
    "parsed_example = tf.io.parse_single_example(serialized_example,{\"image\": tf.io.FixedLenFeature((), tf.string, \"\"), \"label\": tf.io.FixedLenFeature((), tf.int64, -1)})\n",
    "tf.print(\"Parsed example:\", len(parsed_example[\"image\"].numpy()) + 4)\n",
    "decoded_example = (tf.io.decode_image(parsed_example[\"image\"]), parsed_example[\"label\"])\n",
    "tf.print(\"Decoded example:\", tf.size(decoded_example[0]) + 4)"
   ]
  },
  {
   "cell_type": "markdown",
   "metadata": {},
   "source": [
    "A tradeoff could be to split our parsing function.\n",
    "\n",
    "In a first step, you load data from disk and parse the TFExample.\n",
    "Cache at this step to avoid disk-read on next iterations.\n",
    "Add a second step which decode our PNG, inflating memory consumption."
   ]
  },
  {
   "cell_type": "code",
   "execution_count": 18,
   "metadata": {},
   "outputs": [],
   "source": [
    "def parse_batch_fn(examples):\n",
    "    \"\"\" Parse a batch of TFExample records.\"\"\"\n",
    "    example_features = {\n",
    "        \"image\": tf.io.FixedLenFeature((), tf.string, \"\"),\n",
    "        \"label\": tf.io.FixedLenFeature((), tf.int64, -1)\n",
    "    }\n",
    "    \n",
    "    parsed = tf.io.parse_example(examples, example_features)\n",
    "    return parsed[\"image\"], parsed[\"label\"]\n",
    "\n",
    "def decode_and_augment(images, labels):\n",
    "    return (\n",
    "        _augment_helper(\n",
    "            tf.map_fn(tf.io.decode_image, images, dtype=tf.dtypes.uint8)\n",
    "        ),\n",
    "        labels\n",
    "    )"
   ]
  },
  {
   "cell_type": "code",
   "execution_count": 19,
   "metadata": {},
   "outputs": [],
   "source": [
    "def make_dataset():\n",
    "    dataset = tf.data.Dataset.list_files(os.path.join(temp_dir.name, 'tf_record.*'))\n",
    "    dataset = dataset.interleave(\n",
    "        tf.data.TFRecordDataset,\n",
    "        num_parallel_calls=tf.data.experimental.AUTOTUNE\n",
    "    )\n",
    "    dataset = dataset.batch(64)\n",
    "    \n",
    "    # Parse TFExamples\n",
    "    dataset = dataset.map(\n",
    "        parse_batch_fn,\n",
    "        num_parallel_calls=tf.data.experimental.AUTOTUNE\n",
    "    )\n",
    "    # Cache the resulting dataset\n",
    "    dataset = dataset.cache()\n",
    "    # Decode images\n",
    "    dataset = dataset.map(\n",
    "        decode_and_augment,\n",
    "        num_parallel_calls=tf.data.experimental.AUTOTUNE\n",
    "    )\n",
    "    \n",
    "    \n",
    "    dataset = dataset.prefetch(tf.data.experimental.AUTOTUNE)\n",
    "    return dataset"
   ]
  },
  {
   "cell_type": "code",
   "execution_count": 20,
   "metadata": {},
   "outputs": [
    {
     "name": "stdout",
     "output_type": "stream",
     "text": [
      "Cache:  6.041410915000597\n"
     ]
    }
   ],
   "source": [
    "tf.print(\"Cache: \", timeit.timeit(lambda: iterate(make_dataset()), number=1))"
   ]
  },
  {
   "cell_type": "markdown",
   "metadata": {},
   "source": [
    "### Repeat and shuffle\n",
    "\n",
    "The `tf.data.Dataset.repeat` transformation repeats the input data a finite (or\n",
    "infinite) number of times; each repetition of the data is typically referred to\n",
    "as an _epoch_. The `tf.data.Dataset.shuffle` transformation randomizes the order\n",
    "of the dataset's examples.\n",
    "\n",
    "If the `repeat` transformation is applied before the `shuffle` transformation,\n",
    "then the epoch boundaries are blurred. That is, certain elements can be repeated\n",
    "before other elements appear even once. On the other hand, if the `shuffle`\n",
    "transformation is applied before the repeat transformation, then performance\n",
    "might slow down at the beginning of each epoch related to initialization of the\n",
    "internal state of the `shuffle` transformation. In other words, the former\n",
    "(`repeat` before `shuffle`) provides better performance, while the latter\n",
    "(`shuffle` before `repeat`) provides stronger ordering guarantees.\n"
   ]
  },
  {
   "cell_type": "code",
   "execution_count": 21,
   "metadata": {},
   "outputs": [
    {
     "data": {
      "text/plain": [
       "<matplotlib.legend.Legend at 0x7f54803717f0>"
      ]
     },
     "execution_count": 21,
     "metadata": {},
     "output_type": "execute_result"
    },
    {
     "data": {
      "image/png": "[encoded data removed]",
      "text/plain": [
       "<Figure size 432x288 with 1 Axes>"
      ]
     },
     "metadata": {
      "needs_background": "light"
     },
     "output_type": "display_data"
    }
   ],
   "source": [
    "range_ds = tf.data.Dataset.range(1000)\n",
    "shuffle_repeat = [x.numpy().mean() for x in range_ds.shuffle(200).repeat(2).batch(10)]\n",
    "repeat_shuffle = [x.numpy().mean() for x in range_ds.repeat(2).shuffle(200).batch(10)]\n",
    "plt.plot(shuffle_repeat, label=\"shuffle().repeat()\")\n",
    "plt.plot(repeat_shuffle, label=\"repeat().shuffle()\")\n",
    "plt.ylabel(\"Mean item ID\")\n",
    "plt.legend()"
   ]
  },
  {
   "cell_type": "markdown",
   "metadata": {},
   "source": [
    "## Best practice summary\n",
    "\n",
    "Here is a summary of the best practices for designing performant TensorFlow\n",
    "input pipelines:\n",
    "\n",
    "*   Use the `prefetch` transformation to overlap the work of a producer and\n",
    "    consumer. In particular, we recommend adding `prefetch` to the end of your\n",
    "    input pipeline to overlap the transformations performed on the CPU with the\n",
    "    training done on the accelerator. Either manually tuning the buffer size, or\n",
    "    using `tf.data.experimental.AUTOTUNE` to delegate the decision to the\n",
    "    `tf.data` runtime.\n",
    "*   Parallelize the `map` transformation by setting the `num_parallel_calls`\n",
    "    argument. Either manually tuning the level of parallelism, or using\n",
    "    `tf.data.experimental.AUTOTUNE` to delegate the decision to the `tf.data`\n",
    "    runtime.\n",
    "*   If you are working with data stored remotely and / or requiring\n",
    "    deserialization, we recommend using the `interleave` transformation to\n",
    "    parallelize the reading (and deserialization) of data from different files.\n",
    "*   Vectorize user-defined functions passed in to the `map` transformation\n",
    "    to amortize the overhead associated with scheduling and executing the\n",
    "    function.\n",
    "*   If your data can fit into memory, use the `cache` transformation to cache it\n",
    "    in memory during the first epoch, so that subsequent epochs can avoid the\n",
    "    overhead associated with reading, parsing, and transforming it.\n",
    "*   If your pre-processing increases the size of your data, we recommend\n",
    "    applying the `interleave`, `prefetch`, and `shuffle` first (if possible) to\n",
    "    reduce memory usage.\n",
    "*   We recommend applying the `shuffle` transformation _before_ the `repeat`\n",
    "    transformation."
   ]
  },
  {
   "cell_type": "code",
   "execution_count": null,
   "metadata": {},
   "outputs": [],
   "source": []
  }
 ],
 "metadata": {
  "kernelspec": {
   "display_name": "Python 3",
   "language": "python",
   "name": "python3"
  },
  "language_info": {
   "codemirror_mode": {
    "name": "ipython",
    "version": 3
   },
   "file_extension": ".py",
   "mimetype": "text/x-python",
   "name": "python",
   "nbconvert_exporter": "python",
   "pygments_lexer": "ipython3",
   "version": "3.6.8"
  }
 },
 "nbformat": 4,
 "nbformat_minor": 2
}
